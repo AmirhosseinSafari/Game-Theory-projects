{
  "cells": [
    {
      "cell_type": "markdown",
      "source": [
        "Amirhossein Safari_97463137_Tamrin #3 "
      ],
      "metadata": {
        "id": "ZEV-UaVDwvE4"
      }
    },
    {
      "cell_type": "code",
      "execution_count": 57,
      "metadata": {
        "collapsed": true,
        "id": "d6CaWuhx-aaD"
      },
      "outputs": [],
      "source": [
        "import pandas as pd\n",
        "import numpy as np\n",
        "import matplotlib. pyplot as plt\n",
        "from sklearn.preprocessing import MinMaxScaler\n",
        "from keras.models import Sequential\n",
        "from keras.layers import Dense\n",
        "from keras.layers import LSTM\n"
      ]
    },
    {
      "cell_type": "code",
      "source": [
        "url =\"train.csv\"\n",
        "df_train = pd.read_csv(url)\n",
        "print(df_train.head())\n",
        "\n",
        "url =\"test.csv\"\n",
        "df_test= pd.read_csv(url)\n",
        "\n",
        "url =\"comparision.csv\"\n",
        "df_compare= pd.read_csv(url)\n",
        "print(df_compare.head())"
      ],
      "metadata": {
        "colab": {
          "base_uri": "https://localhost:8080/"
        },
        "id": "ihSMTpSU1DMV",
        "outputId": "0e95820c-867e-49e2-9f89-00a5b3627387"
      },
      "execution_count": 58,
      "outputs": [
        {
          "output_type": "stream",
          "name": "stdout",
          "text": [
            "   <DTYYYYMMDD>  <HIGH>  <TARGET>\n",
            "0      20090609    1002      1031\n",
            "1      20090610    1031      1025\n",
            "2      20090613    1025      1026\n",
            "3      20090614    1026      1026\n",
            "4      20090615    1026      1026\n",
            "   <TARGET>\n",
            "0      2039\n",
            "1      1948\n",
            "2      2000\n",
            "3      2060\n",
            "4      2048\n"
          ]
        }
      ]
    },
    {
      "cell_type": "code",
      "execution_count": 60,
      "outputs": [
        {
          "output_type": "stream",
          "name": "stdout",
          "text": [
            "     <DTYYYYMMDD>    <HIGH>\n",
            "0        0.000000  0.371186\n",
            "1        0.004910  0.338136\n",
            "2        0.006547  0.261017\n",
            "3        0.008183  0.305085\n",
            "4        0.009820  0.355932\n",
            "..            ...       ...\n",
            "121      0.990180  0.004237\n",
            "122      0.991817  0.002542\n",
            "123      0.996727  0.038136\n",
            "124      0.998363  0.000000\n",
            "125      1.000000  0.036441\n",
            "\n",
            "[126 rows x 2 columns]\n"
          ]
        }
      ],
      "source": [
        "#Set Target Variable to Dataframe\n",
        "output_var_train = pd.DataFrame(df_train[\"<TARGET>\"])\n",
        "compare_var_train = pd.DataFrame(df_compare[\"<TARGET>\"])\n",
        "\n",
        "#Selecting the Features to normalize\n",
        "features = [\"<DTYYYYMMDD>\", \"<HIGH>\"]\n",
        "\n",
        "#Scaling (Normaliazation)\n",
        "scaler = MinMaxScaler()\n",
        "feature_transform_train = scaler.fit_transform(df_train[features])\n",
        "feature_transform_train= pd.DataFrame(columns=features, data=feature_transform_train, index=df_train.index)\n",
        "\n",
        "feature_transform_test = scaler.fit_transform(df_test[features])\n",
        "feature_transform_test = pd.DataFrame(columns=features, data=feature_transform_test, index=df_test.index)\n",
        "\n",
        "print(feature_transform_test)"
      ],
      "metadata": {
        "pycharm": {
          "name": "#%%\n"
        },
        "id": "09FNa5sx-aaJ",
        "colab": {
          "base_uri": "https://localhost:8080/"
        },
        "outputId": "6c9e99d2-645d-4113-a1b5-d958f0eccdc6"
      }
    },
    {
      "cell_type": "code",
      "execution_count": 56,
      "outputs": [],
      "source": [
        "#initial\n",
        "X_train = feature_transform_train\n",
        "y_train = output_var_train.values.ravel()\n",
        "compare_train = compare_var_train.values.ravel() \n",
        "\n",
        "#Process the data for LSTM \n",
        "trainX = np.array(X_train)\n",
        "X_train = trainX.reshape(X_train.shape[0], 1, X_train.shape[1])"
      ],
      "metadata": {
        "pycharm": {
          "name": "#%%\n"
        },
        "id": "JE5633U4-aaN"
      }
    },
    {
      "cell_type": "code",
      "execution_count": 61,
      "outputs": [
        {
          "output_type": "stream",
          "name": "stdout",
          "text": [
            "<keras.engine.sequential.Sequential object at 0x7f2cf6261410>\n"
          ]
        }
      ],
      "source": [
        "#Building the LSTM Model\n",
        "lstm = Sequential()\n",
        "lstm.add(LSTM(32, input_shape=(1, trainX.shape[1]), activation=\"relu\", return_sequences=False))\n",
        "lstm.add(Dense(1))\n",
        "lstm.compile(loss=\"mean_squared_error\", optimizer=\"adam\")\n",
        "\n",
        "print(lstm)\n"
      ],
      "metadata": {
        "pycharm": {
          "name": "#%%\n"
        },
        "id": "WUcjmfCn-aaO",
        "colab": {
          "base_uri": "https://localhost:8080/"
        },
        "outputId": "b6bb02d0-1c87-4123-b9b8-c849616ae019"
      }
    },
    {
      "cell_type": "code",
      "execution_count": null,
      "outputs": [
        {
          "output_type": "stream",
          "name": "stdout",
          "text": [
            "Epoch 1/500\n",
            "288/288 [==============================] - 2s 2ms/step - loss: 2155828.0000\n",
            "Epoch 2/500\n",
            "288/288 [==============================] - 1s 2ms/step - loss: 2140392.5000\n",
            "Epoch 3/500\n",
            "288/288 [==============================] - 1s 2ms/step - loss: 2110551.0000\n",
            "Epoch 4/500\n",
            "288/288 [==============================] - 1s 2ms/step - loss: 2065491.0000\n",
            "Epoch 5/500\n",
            "288/288 [==============================] - 0s 2ms/step - loss: 2007891.0000\n",
            "Epoch 6/500\n",
            "288/288 [==============================] - 1s 2ms/step - loss: 1940941.2500\n",
            "Epoch 7/500\n",
            "288/288 [==============================] - 1s 2ms/step - loss: 1867255.1250\n",
            "Epoch 8/500\n",
            "288/288 [==============================] - 1s 2ms/step - loss: 1788829.1250\n",
            "Epoch 9/500\n",
            "288/288 [==============================] - 1s 2ms/step - loss: 1707224.5000\n",
            "Epoch 10/500\n",
            "288/288 [==============================] - 1s 2ms/step - loss: 1623713.2500\n",
            "Epoch 11/500\n",
            "288/288 [==============================] - 1s 2ms/step - loss: 1539375.3750\n",
            "Epoch 12/500\n",
            "288/288 [==============================] - 1s 2ms/step - loss: 1455147.1250\n",
            "Epoch 13/500\n",
            "288/288 [==============================] - 0s 2ms/step - loss: 1371855.0000\n",
            "Epoch 14/500\n",
            "288/288 [==============================] - 1s 2ms/step - loss: 1290229.7500\n",
            "Epoch 15/500\n",
            "288/288 [==============================] - 1s 2ms/step - loss: 1210917.1250\n",
            "Epoch 16/500\n",
            "288/288 [==============================] - 1s 2ms/step - loss: 1134480.6250\n",
            "Epoch 17/500\n",
            "288/288 [==============================] - 1s 2ms/step - loss: 1061406.0000\n",
            "Epoch 18/500\n",
            "288/288 [==============================] - 1s 2ms/step - loss: 992100.3750\n",
            "Epoch 19/500\n",
            "288/288 [==============================] - 1s 2ms/step - loss: 926892.4375\n",
            "Epoch 20/500\n",
            "288/288 [==============================] - 1s 2ms/step - loss: 866032.1250\n",
            "Epoch 21/500\n",
            "288/288 [==============================] - 1s 4ms/step - loss: 809689.8125\n",
            "Epoch 22/500\n",
            "288/288 [==============================] - 1s 2ms/step - loss: 757958.3125\n",
            "Epoch 23/500\n",
            "288/288 [==============================] - 1s 2ms/step - loss: 710852.8125\n",
            "Epoch 24/500\n",
            "288/288 [==============================] - 1s 2ms/step - loss: 668317.1250\n",
            "Epoch 25/500\n",
            "288/288 [==============================] - 1s 2ms/step - loss: 630227.3125\n",
            "Epoch 26/500\n",
            "288/288 [==============================] - 1s 2ms/step - loss: 596399.2500\n",
            "Epoch 27/500\n",
            "288/288 [==============================] - 1s 2ms/step - loss: 566597.3125\n",
            "Epoch 28/500\n",
            "288/288 [==============================] - 1s 2ms/step - loss: 540545.5625\n",
            "Epoch 29/500\n",
            "288/288 [==============================] - 1s 2ms/step - loss: 517937.3750\n",
            "Epoch 30/500\n",
            "288/288 [==============================] - 1s 2ms/step - loss: 498448.7500\n",
            "Epoch 31/500\n",
            "288/288 [==============================] - 1s 2ms/step - loss: 481748.0938\n",
            "Epoch 32/500\n",
            "288/288 [==============================] - 1s 2ms/step - loss: 467506.6875\n",
            "Epoch 33/500\n",
            "288/288 [==============================] - 1s 2ms/step - loss: 455408.2500\n",
            "Epoch 34/500\n",
            "288/288 [==============================] - 1s 2ms/step - loss: 445154.5000\n",
            "Epoch 35/500\n",
            "288/288 [==============================] - 1s 2ms/step - loss: 436472.2188\n",
            "Epoch 36/500\n",
            "288/288 [==============================] - 1s 3ms/step - loss: 429114.1562\n",
            "Epoch 37/500\n",
            "288/288 [==============================] - 1s 4ms/step - loss: 422862.2500\n",
            "Epoch 38/500\n",
            "288/288 [==============================] - 1s 3ms/step - loss: 417525.9688\n",
            "Epoch 39/500\n",
            "288/288 [==============================] - 1s 2ms/step - loss: 412942.2812\n",
            "Epoch 40/500\n",
            "288/288 [==============================] - 1s 2ms/step - loss: 408972.6250\n",
            "Epoch 41/500\n",
            "288/288 [==============================] - 1s 2ms/step - loss: 405501.0938\n",
            "Epoch 42/500\n",
            "288/288 [==============================] - 1s 2ms/step - loss: 402431.4688\n",
            "Epoch 43/500\n",
            "288/288 [==============================] - 1s 2ms/step - loss: 399684.1875\n",
            "Epoch 44/500\n",
            "288/288 [==============================] - 1s 2ms/step - loss: 397194.5000\n",
            "Epoch 45/500\n",
            "288/288 [==============================] - 1s 2ms/step - loss: 394909.1875\n",
            "Epoch 46/500\n",
            "288/288 [==============================] - 1s 2ms/step - loss: 392785.2500\n",
            "Epoch 47/500\n",
            "288/288 [==============================] - 1s 2ms/step - loss: 390786.5625\n",
            "Epoch 48/500\n",
            "288/288 [==============================] - 1s 2ms/step - loss: 388883.4375\n",
            "Epoch 49/500\n",
            "288/288 [==============================] - 1s 2ms/step - loss: 387049.4688\n",
            "Epoch 50/500\n",
            "288/288 [==============================] - 1s 2ms/step - loss: 385260.3125\n",
            "Epoch 51/500\n",
            "288/288 [==============================] - 1s 2ms/step - loss: 383490.8125\n",
            "Epoch 52/500\n",
            "288/288 [==============================] - 1s 2ms/step - loss: 381712.1875\n",
            "Epoch 53/500\n",
            "288/288 [==============================] - 1s 2ms/step - loss: 379888.0938\n",
            "Epoch 54/500\n",
            "288/288 [==============================] - 1s 2ms/step - loss: 377969.0938\n",
            "Epoch 55/500\n",
            "288/288 [==============================] - 1s 2ms/step - loss: 375885.0938\n",
            "Epoch 56/500\n",
            "288/288 [==============================] - 1s 2ms/step - loss: 373536.2812\n",
            "Epoch 57/500\n",
            "288/288 [==============================] - 1s 2ms/step - loss: 370781.2500\n",
            "Epoch 58/500\n",
            "288/288 [==============================] - 1s 2ms/step - loss: 367424.3125\n",
            "Epoch 59/500\n",
            "288/288 [==============================] - 1s 2ms/step - loss: 363206.0000\n",
            "Epoch 60/500\n",
            "288/288 [==============================] - 1s 2ms/step - loss: 357804.5000\n",
            "Epoch 61/500\n",
            "288/288 [==============================] - 0s 2ms/step - loss: 350857.4688\n",
            "Epoch 62/500\n",
            "288/288 [==============================] - 0s 2ms/step - loss: 342022.3125\n",
            "Epoch 63/500\n",
            "288/288 [==============================] - 1s 2ms/step - loss: 331078.8125\n",
            "Epoch 64/500\n",
            "288/288 [==============================] - 0s 2ms/step - loss: 318052.6250\n",
            "Epoch 65/500\n",
            "288/288 [==============================] - 1s 2ms/step - loss: 303304.0000\n",
            "Epoch 66/500\n",
            "288/288 [==============================] - 1s 2ms/step - loss: 287496.6250\n",
            "Epoch 67/500\n",
            "288/288 [==============================] - 1s 2ms/step - loss: 271421.6875\n",
            "Epoch 68/500\n",
            "288/288 [==============================] - 0s 2ms/step - loss: 255757.3281\n",
            "Epoch 69/500\n",
            "288/288 [==============================] - 1s 2ms/step - loss: 240909.8594\n",
            "Epoch 70/500\n",
            "288/288 [==============================] - 1s 2ms/step - loss: 227013.1719\n",
            "Epoch 71/500\n",
            "288/288 [==============================] - 1s 2ms/step - loss: 214036.2969\n",
            "Epoch 72/500\n",
            "288/288 [==============================] - 1s 2ms/step - loss: 201896.1875\n",
            "Epoch 73/500\n",
            "148/288 [==============>...............] - ETA: 0s - loss: 49844.5078"
          ]
        }
      ],
      "source": [
        "#Model Training\n",
        "history=lstm.fit(X_train, y_train, epochs=500, batch_size=8, verbose=1, shuffle=False)"
      ],
      "metadata": {
        "pycharm": {
          "name": "#%%\n"
        },
        "colab": {
          "base_uri": "https://localhost:8080/"
        },
        "id": "HVF8sjEn-aaP",
        "outputId": "97cadf0e-5710-4002-f96c-c44810d6c75b"
      }
    },
    {
      "cell_type": "code",
      "source": [
        "lstm.save(\"my_model\")"
      ],
      "metadata": {
        "colab": {
          "base_uri": "https://localhost:8080/"
        },
        "id": "zW0D8JwYDbu2",
        "outputId": "fb925556-21be-4ad1-fd54-763c8d000702"
      },
      "execution_count": 37,
      "outputs": [
        {
          "output_type": "stream",
          "name": "stdout",
          "text": [
            "INFO:tensorflow:Assets written to: my_model/assets\n"
          ]
        },
        {
          "output_type": "stream",
          "name": "stderr",
          "text": [
            "INFO:tensorflow:Assets written to: my_model/assets\n",
            "WARNING:absl:<keras.layers.recurrent.LSTMCell object at 0x7f2cf709c490> has the same name 'LSTMCell' as a built-in Keras object. Consider renaming <class 'keras.layers.recurrent.LSTMCell'> to avoid naming conflicts when loading with `tf.keras.models.load_model`. If renaming is not possible, pass the object in the `custom_objects` parameter of the load function.\n"
          ]
        }
      ]
    },
    {
      "cell_type": "code",
      "execution_count": 62,
      "outputs": [],
      "source": [
        "X_test=feature_transform_test\n",
        "testX =np.array(X_test)\n",
        "X_test = testX.reshape(X_test.shape[0], 1, X_test.shape[1])\n",
        "\n",
        "#LSTM Prediction\n",
        "y_pred= lstm.predict(X_test)\n",
        "\n",
        "for i in range(0,len(X_test)):\n",
        "    df_test.loc[i, 'Target'] = round(float(y_pred[i]),3)\n",
        "\n",
        "df_test.to_csv(\"test_result.csv\", index=False)"
      ],
      "metadata": {
        "pycharm": {
          "name": "#%%\n"
        },
        "id": "B49pH5Ji-aaQ"
      }
    },
    {
      "cell_type": "code",
      "source": [
        "#MSE\n",
        "from sklearn.metrics import mean_squared_error \n",
        "MSE = mean_squared_error(compare_train, y_pred)\n",
        "print(MSE)"
      ],
      "metadata": {
        "colab": {
          "base_uri": "https://localhost:8080/"
        },
        "id": "nE3PwtplCU5Y",
        "outputId": "f04b7102-8fea-4263-df0e-a05d26b31f62"
      },
      "execution_count": 64,
      "outputs": [
        {
          "output_type": "stream",
          "name": "stdout",
          "text": [
            "4604707.738086413\n"
          ]
        }
      ]
    },
    {
      "cell_type": "code",
      "execution_count": 68,
      "outputs": [
        {
          "output_type": "display_data",
          "data": {
            "image/png": "[encoded data removed]",
            "text/plain": [
              "<Figure size 432x288 with 1 Axes>"
            ]
          },
          "metadata": {
            "needs_background": "light"
          }
        }
      ],
      "source": [
        "#Predicted vs True Adj Close Value – LSTM\n",
        "plt.plot(compare_train, label=\"Correct Value\")\n",
        "plt.plot(y_pred, label=\"LSTM Value\")\n",
        "plt.title(\"Prediction by LSTM\")\n",
        "plt.xlabel(\"X\")\n",
        "plt.ylabel(\"Y\")\n",
        "plt.savefig('lstm.png')\n",
        "plt.legend()\n",
        "plt.show()\n"
      ],
      "metadata": {
        "pycharm": {
          "name": "#%%\n"
        },
        "colab": {
          "base_uri": "https://localhost:8080/",
          "height": 295
        },
        "id": "cpSugrDC-aaT",
        "outputId": "c7101e41-16f9-41dc-b22d-bfaf8e129ae0"
      }
    }
  ],
  "metadata": {
    "kernelspec": {
      "display_name": "Python 3",
      "language": "python",
      "name": "python3"
    },
    "language_info": {
      "codemirror_mode": {
        "name": "ipython",
        "version": 2
      },
      "file_extension": ".py",
      "mimetype": "text/x-python",
      "name": "python",
      "nbconvert_exporter": "python",
      "pygments_lexer": "ipython2",
      "version": "2.7.6"
    },
    "colab": {
      "name": "LSDM.ipynb",
      "provenance": []
    }
  },
  "nbformat": 4,
  "nbformat_minor": 0
}